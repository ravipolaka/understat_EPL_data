{
  "nbformat": 4,
  "nbformat_minor": 0,
  "metadata": {
    "colab": {
      "name": "tastysoup",
      "provenance": [],
      "collapsed_sections": [],
      "authorship_tag": "ABX9TyNBUUnNxHMGs7NtAmBnYsA7",
      "include_colab_link": true
    },
    "kernelspec": {
      "name": "python3",
      "display_name": "Python 3"
    },
    "language_info": {
      "name": "python"
    }
  },
  "cells": [
    {
      "cell_type": "markdown",
      "metadata": {
        "id": "view-in-github",
        "colab_type": "text"
      },
      "source": [
        "<a href=\"https://colab.research.google.com/github/ravipolaka/understat_EPL_data/blob/main/tastysoup.ipynb\" target=\"_parent\"><img src=\"https://colab.research.google.com/assets/colab-badge.svg\" alt=\"Open In Colab\"/></a>"
      ]
    },
    {
      "cell_type": "code",
      "metadata": {
        "id": "KwodMSLlN6sL"
      },
      "source": [
        "import json\n",
        "import pandas as pd\n",
        "from bs4 import BeautifulSoup\n",
        "from urllib.request import urlopen"
      ],
      "execution_count": null,
      "outputs": []
    },
    {
      "cell_type": "code",
      "metadata": {
        "id": "W2tw6wMhOxA6"
      },
      "source": [
        "url=\"https://understat.com/league/EPL\""
      ],
      "execution_count": null,
      "outputs": []
    },
    {
      "cell_type": "code",
      "metadata": {
        "id": "oEC2EbxVPWTr"
      },
      "source": [
        "content=urlopen(url)"
      ],
      "execution_count": null,
      "outputs": []
    },
    {
      "cell_type": "code",
      "metadata": {
        "id": "jTPidqp5Pcqq"
      },
      "source": [
        "page=BeautifulSoup(content,\"html.parser\")"
      ],
      "execution_count": null,
      "outputs": []
    },
    {
      "cell_type": "code",
      "metadata": {
        "colab": {
          "base_uri": "https://localhost:8080/"
        },
        "id": "Ypg95WqjP66l",
        "outputId": "d25afcc7-014e-41eb-c1f9-d478fc863867"
      },
      "source": [
        "print(type(url))\n",
        "print(type(content))\n",
        "print(type(page))"
      ],
      "execution_count": null,
      "outputs": [
        {
          "output_type": "stream",
          "text": [
            "<class 'str'>\n",
            "<class 'http.client.HTTPResponse'>\n",
            "<class 'bs4.BeautifulSoup'>\n"
          ],
          "name": "stdout"
        }
      ]
    },
    {
      "cell_type": "code",
      "metadata": {
        "id": "cik9UB8lQTef"
      },
      "source": [
        "page.find_all(name=\"script\")"
      ],
      "execution_count": null,
      "outputs": []
    },
    {
      "cell_type": "code",
      "metadata": {
        "id": "Ld_cOLqvSzKc"
      },
      "source": [
        "player_data=page.find_all(name=\"script\")[3].text"
      ],
      "execution_count": null,
      "outputs": []
    },
    {
      "cell_type": "code",
      "metadata": {
        "id": "MBt9knr8QMG0"
      },
      "source": [
        "start_index=player_data.index(\"('\")+2\n",
        "end_index=player_data.index(\"')\")"
      ],
      "execution_count": null,
      "outputs": []
    },
    {
      "cell_type": "code",
      "metadata": {
        "id": "ArzdFw8-UHNy"
      },
      "source": [
        "raw_data=player_data[start_index:end_index]"
      ],
      "execution_count": null,
      "outputs": []
    },
    {
      "cell_type": "code",
      "metadata": {
        "id": "916IwQcuViKy"
      },
      "source": [
        "json_data=raw_data.encode(\"utf8\").decode(\"unicode_escape\")"
      ],
      "execution_count": null,
      "outputs": []
    },
    {
      "cell_type": "code",
      "metadata": {
        "id": "ad9ocV1WWSg9"
      },
      "source": [
        "jsonform_data=json.loads(json_data)"
      ],
      "execution_count": null,
      "outputs": []
    },
    {
      "cell_type": "code",
      "metadata": {
        "id": "VuJEmIM3WovM"
      },
      "source": [
        "df=pd.json_normalize(jsonform_data)"
      ],
      "execution_count": null,
      "outputs": []
    },
    {
      "cell_type": "code",
      "metadata": {
        "colab": {
          "base_uri": "https://localhost:8080/",
          "height": 419
        },
        "id": "aw5lLaWhW4KF",
        "outputId": "9be48b1e-860f-4f85-ab51-12fd705b5485"
      },
      "source": [
        "df"
      ],
      "execution_count": null,
      "outputs": [
        {
          "output_type": "execute_result",
          "data": {
            "text/html": [
              "<div>\n",
              "<style scoped>\n",
              "    .dataframe tbody tr th:only-of-type {\n",
              "        vertical-align: middle;\n",
              "    }\n",
              "\n",
              "    .dataframe tbody tr th {\n",
              "        vertical-align: top;\n",
              "    }\n",
              "\n",
              "    .dataframe thead th {\n",
              "        text-align: right;\n",
              "    }\n",
              "</style>\n",
              "<table border=\"1\" class=\"dataframe\">\n",
              "  <thead>\n",
              "    <tr style=\"text-align: right;\">\n",
              "      <th></th>\n",
              "      <th>id</th>\n",
              "      <th>player_name</th>\n",
              "      <th>games</th>\n",
              "      <th>time</th>\n",
              "      <th>goals</th>\n",
              "      <th>xG</th>\n",
              "      <th>assists</th>\n",
              "      <th>xA</th>\n",
              "      <th>shots</th>\n",
              "      <th>key_passes</th>\n",
              "      <th>yellow_cards</th>\n",
              "      <th>red_cards</th>\n",
              "      <th>position</th>\n",
              "      <th>team_title</th>\n",
              "      <th>npg</th>\n",
              "      <th>npxG</th>\n",
              "      <th>xGChain</th>\n",
              "      <th>xGBuildup</th>\n",
              "    </tr>\n",
              "  </thead>\n",
              "  <tbody>\n",
              "    <tr>\n",
              "      <th>0</th>\n",
              "      <td>647</td>\n",
              "      <td>Harry Kane</td>\n",
              "      <td>35</td>\n",
              "      <td>3097</td>\n",
              "      <td>23</td>\n",
              "      <td>22.174858909100294</td>\n",
              "      <td>14</td>\n",
              "      <td>7.577093588188291</td>\n",
              "      <td>138</td>\n",
              "      <td>49</td>\n",
              "      <td>1</td>\n",
              "      <td>0</td>\n",
              "      <td>F</td>\n",
              "      <td>Tottenham</td>\n",
              "      <td>19</td>\n",
              "      <td>19.130183439701796</td>\n",
              "      <td>24.995648321695626</td>\n",
              "      <td>4.451256847940385</td>\n",
              "    </tr>\n",
              "    <tr>\n",
              "      <th>1</th>\n",
              "      <td>1250</td>\n",
              "      <td>Mohamed Salah</td>\n",
              "      <td>37</td>\n",
              "      <td>3085</td>\n",
              "      <td>22</td>\n",
              "      <td>20.250846637412906</td>\n",
              "      <td>5</td>\n",
              "      <td>6.528526101261377</td>\n",
              "      <td>126</td>\n",
              "      <td>55</td>\n",
              "      <td>0</td>\n",
              "      <td>0</td>\n",
              "      <td>F M S</td>\n",
              "      <td>Liverpool</td>\n",
              "      <td>16</td>\n",
              "      <td>15.683833638206124</td>\n",
              "      <td>28.968233548104763</td>\n",
              "      <td>9.800235655158758</td>\n",
              "    </tr>\n",
              "    <tr>\n",
              "      <th>2</th>\n",
              "      <td>1228</td>\n",
              "      <td>Bruno Fernandes</td>\n",
              "      <td>37</td>\n",
              "      <td>3117</td>\n",
              "      <td>18</td>\n",
              "      <td>16.0194544615224</td>\n",
              "      <td>12</td>\n",
              "      <td>11.474995978176594</td>\n",
              "      <td>121</td>\n",
              "      <td>95</td>\n",
              "      <td>6</td>\n",
              "      <td>0</td>\n",
              "      <td>M S</td>\n",
              "      <td>Manchester United</td>\n",
              "      <td>9</td>\n",
              "      <td>8.40783962700516</td>\n",
              "      <td>26.911412378773093</td>\n",
              "      <td>11.93228487111628</td>\n",
              "    </tr>\n",
              "    <tr>\n",
              "      <th>3</th>\n",
              "      <td>453</td>\n",
              "      <td>Son Heung-Min</td>\n",
              "      <td>37</td>\n",
              "      <td>3139</td>\n",
              "      <td>17</td>\n",
              "      <td>11.023286756128073</td>\n",
              "      <td>10</td>\n",
              "      <td>9.512992469593883</td>\n",
              "      <td>68</td>\n",
              "      <td>75</td>\n",
              "      <td>0</td>\n",
              "      <td>0</td>\n",
              "      <td>F M S</td>\n",
              "      <td>Tottenham</td>\n",
              "      <td>16</td>\n",
              "      <td>10.26211790367961</td>\n",
              "      <td>20.6719155497849</td>\n",
              "      <td>6.608751138672233</td>\n",
              "    </tr>\n",
              "    <tr>\n",
              "      <th>4</th>\n",
              "      <td>822</td>\n",
              "      <td>Patrick Bamford</td>\n",
              "      <td>38</td>\n",
              "      <td>3085</td>\n",
              "      <td>17</td>\n",
              "      <td>18.401862610131502</td>\n",
              "      <td>7</td>\n",
              "      <td>3.7822465524077415</td>\n",
              "      <td>107</td>\n",
              "      <td>30</td>\n",
              "      <td>3</td>\n",
              "      <td>0</td>\n",
              "      <td>F S</td>\n",
              "      <td>Leeds</td>\n",
              "      <td>15</td>\n",
              "      <td>16.87952494621277</td>\n",
              "      <td>23.394952706992626</td>\n",
              "      <td>4.131795546039939</td>\n",
              "    </tr>\n",
              "    <tr>\n",
              "      <th>...</th>\n",
              "      <td>...</td>\n",
              "      <td>...</td>\n",
              "      <td>...</td>\n",
              "      <td>...</td>\n",
              "      <td>...</td>\n",
              "      <td>...</td>\n",
              "      <td>...</td>\n",
              "      <td>...</td>\n",
              "      <td>...</td>\n",
              "      <td>...</td>\n",
              "      <td>...</td>\n",
              "      <td>...</td>\n",
              "      <td>...</td>\n",
              "      <td>...</td>\n",
              "      <td>...</td>\n",
              "      <td>...</td>\n",
              "      <td>...</td>\n",
              "      <td>...</td>\n",
              "    </tr>\n",
              "    <tr>\n",
              "      <th>519</th>\n",
              "      <td>9423</td>\n",
              "      <td>Gaetano Berardi</td>\n",
              "      <td>2</td>\n",
              "      <td>113</td>\n",
              "      <td>0</td>\n",
              "      <td>0.07476061582565308</td>\n",
              "      <td>0</td>\n",
              "      <td>0</td>\n",
              "      <td>1</td>\n",
              "      <td>0</td>\n",
              "      <td>0</td>\n",
              "      <td>0</td>\n",
              "      <td>D S</td>\n",
              "      <td>Leeds</td>\n",
              "      <td>0</td>\n",
              "      <td>0.07476061582565308</td>\n",
              "      <td>0.2312779352068901</td>\n",
              "      <td>0.2312779352068901</td>\n",
              "    </tr>\n",
              "    <tr>\n",
              "      <th>520</th>\n",
              "      <td>9540</td>\n",
              "      <td>Femi Seriki</td>\n",
              "      <td>1</td>\n",
              "      <td>1</td>\n",
              "      <td>0</td>\n",
              "      <td>0</td>\n",
              "      <td>0</td>\n",
              "      <td>0</td>\n",
              "      <td>0</td>\n",
              "      <td>0</td>\n",
              "      <td>0</td>\n",
              "      <td>0</td>\n",
              "      <td>S</td>\n",
              "      <td>Sheffield United</td>\n",
              "      <td>0</td>\n",
              "      <td>0</td>\n",
              "      <td>0</td>\n",
              "      <td>0</td>\n",
              "    </tr>\n",
              "    <tr>\n",
              "      <th>521</th>\n",
              "      <td>9552</td>\n",
              "      <td>Tyrese Francois</td>\n",
              "      <td>1</td>\n",
              "      <td>13</td>\n",
              "      <td>0</td>\n",
              "      <td>0</td>\n",
              "      <td>0</td>\n",
              "      <td>0</td>\n",
              "      <td>0</td>\n",
              "      <td>0</td>\n",
              "      <td>0</td>\n",
              "      <td>0</td>\n",
              "      <td>S</td>\n",
              "      <td>Fulham</td>\n",
              "      <td>0</td>\n",
              "      <td>0</td>\n",
              "      <td>0</td>\n",
              "      <td>0</td>\n",
              "    </tr>\n",
              "    <tr>\n",
              "      <th>522</th>\n",
              "      <td>9557</td>\n",
              "      <td>William Fish</td>\n",
              "      <td>1</td>\n",
              "      <td>1</td>\n",
              "      <td>0</td>\n",
              "      <td>0</td>\n",
              "      <td>0</td>\n",
              "      <td>0</td>\n",
              "      <td>0</td>\n",
              "      <td>0</td>\n",
              "      <td>0</td>\n",
              "      <td>0</td>\n",
              "      <td>S</td>\n",
              "      <td>Manchester United</td>\n",
              "      <td>0</td>\n",
              "      <td>0</td>\n",
              "      <td>0</td>\n",
              "      <td>0</td>\n",
              "    </tr>\n",
              "    <tr>\n",
              "      <th>523</th>\n",
              "      <td>9558</td>\n",
              "      <td>Hannibal Mejbri</td>\n",
              "      <td>1</td>\n",
              "      <td>3</td>\n",
              "      <td>0</td>\n",
              "      <td>0</td>\n",
              "      <td>0</td>\n",
              "      <td>0</td>\n",
              "      <td>0</td>\n",
              "      <td>0</td>\n",
              "      <td>0</td>\n",
              "      <td>0</td>\n",
              "      <td>S</td>\n",
              "      <td>Manchester United</td>\n",
              "      <td>0</td>\n",
              "      <td>0</td>\n",
              "      <td>0</td>\n",
              "      <td>0</td>\n",
              "    </tr>\n",
              "  </tbody>\n",
              "</table>\n",
              "<p>524 rows × 18 columns</p>\n",
              "</div>"
            ],
            "text/plain": [
              "       id      player_name  ...             xGChain           xGBuildup\n",
              "0     647       Harry Kane  ...  24.995648321695626   4.451256847940385\n",
              "1    1250    Mohamed Salah  ...  28.968233548104763   9.800235655158758\n",
              "2    1228  Bruno Fernandes  ...  26.911412378773093   11.93228487111628\n",
              "3     453    Son Heung-Min  ...    20.6719155497849   6.608751138672233\n",
              "4     822  Patrick Bamford  ...  23.394952706992626   4.131795546039939\n",
              "..    ...              ...  ...                 ...                 ...\n",
              "519  9423  Gaetano Berardi  ...  0.2312779352068901  0.2312779352068901\n",
              "520  9540      Femi Seriki  ...                   0                   0\n",
              "521  9552  Tyrese Francois  ...                   0                   0\n",
              "522  9557     William Fish  ...                   0                   0\n",
              "523  9558  Hannibal Mejbri  ...                   0                   0\n",
              "\n",
              "[524 rows x 18 columns]"
            ]
          },
          "metadata": {
            "tags": []
          },
          "execution_count": 40
        }
      ]
    }
  ]
}